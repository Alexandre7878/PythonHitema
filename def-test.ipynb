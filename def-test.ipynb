{
 "cells": [
  {
   "cell_type": "code",
   "execution_count": 5,
   "id": "482abb45",
   "metadata": {},
   "outputs": [],
   "source": [
    "def add_5(x):\n",
    "    return x+5"
   ]
  },
  {
   "cell_type": "code",
   "execution_count": 6,
   "id": "10c6369e",
   "metadata": {},
   "outputs": [
    {
     "data": {
      "text/plain": [
       "10"
      ]
     },
     "execution_count": 6,
     "metadata": {},
     "output_type": "execute_result"
    }
   ],
   "source": [
    "to_test(5)"
   ]
  },
  {
   "cell_type": "code",
   "execution_count": 7,
   "id": "06e305df",
   "metadata": {},
   "outputs": [],
   "source": [
    "def test_add_5():\n",
    "    assert add_5(5) == 10"
   ]
  },
  {
   "cell_type": "code",
   "execution_count": 11,
   "id": "214c7386",
   "metadata": {},
   "outputs": [],
   "source": [
    "assert 1&1==1"
   ]
  },
  {
   "cell_type": "code",
   "execution_count": 12,
   "id": "e9052870",
   "metadata": {},
   "outputs": [],
   "source": [
    "def lucas(x,y):\n",
    "    return x+y+1"
   ]
  },
  {
   "cell_type": "code",
   "execution_count": 13,
   "id": "85108e57",
   "metadata": {},
   "outputs": [
    {
     "data": {
      "text/plain": [
       "4"
      ]
     },
     "execution_count": 13,
     "metadata": {},
     "output_type": "execute_result"
    }
   ],
   "source": [
    "lucas(1,2)"
   ]
  },
  {
   "cell_type": "code",
   "execution_count": 15,
   "id": "76b75208",
   "metadata": {},
   "outputs": [],
   "source": [
    "assert lucas(1,2)==4"
   ]
  },
  {
   "cell_type": "code",
   "execution_count": 16,
   "id": "a7f80b7a",
   "metadata": {},
   "outputs": [],
   "source": [
    "def toto(x,y,z):\n",
    "    return (x*y)**z"
   ]
  },
  {
   "cell_type": "code",
   "execution_count": 17,
   "id": "0a64cc35",
   "metadata": {},
   "outputs": [
    {
     "data": {
      "text/plain": [
       "245"
      ]
     },
     "execution_count": 17,
     "metadata": {},
     "output_type": "execute_result"
    }
   ],
   "source": [
    "toto(5,7,2)"
   ]
  },
  {
   "cell_type": "code",
   "execution_count": 18,
   "id": "240dda10",
   "metadata": {},
   "outputs": [],
   "source": [
    "def test_toto():\n",
    "    assert (1,1,0) == 1"
   ]
  },
  {
   "cell_type": "code",
   "execution_count": null,
   "id": "af2820c9",
   "metadata": {},
   "outputs": [],
   "source": []
  }
 ],
 "metadata": {
  "kernelspec": {
   "display_name": "Python 3 (ipykernel)",
   "language": "python",
   "name": "python3"
  },
  "language_info": {
   "codemirror_mode": {
    "name": "ipython",
    "version": 3
   },
   "file_extension": ".py",
   "mimetype": "text/x-python",
   "name": "python",
   "nbconvert_exporter": "python",
   "pygments_lexer": "ipython3",
   "version": "3.11.8"
  }
 },
 "nbformat": 4,
 "nbformat_minor": 5
}
